{
 "cells": [
  {
   "cell_type": "code",
   "execution_count": 1,
   "metadata": {},
   "outputs": [],
   "source": [
    "import os\n",
    "import json\n",
    "import pymongo\n",
    "root_dir = 'all-rnr-annotated-threads'\n",
    "list_threads = os.listdir(root_dir)"
   ]
  },
  {
   "cell_type": "markdown",
   "metadata": {},
   "source": [
    "### Connect ke MongoDB"
   ]
  },
  {
   "cell_type": "code",
   "execution_count": 2,
   "metadata": {},
   "outputs": [],
   "source": [
    "client = pymongo.MongoClient(\"mongodb://localhost:27017/\")\n",
    "db = client['dataset_graph']\n",
    "collection = db[root_dir]"
   ]
  },
  {
   "cell_type": "code",
   "execution_count": 3,
   "metadata": {},
   "outputs": [
    {
     "data": {
      "text/plain": [
       "['admin', 'config', 'dataset_graph', 'local']"
      ]
     },
     "execution_count": 3,
     "metadata": {},
     "output_type": "execute_result"
    }
   ],
   "source": [
    "client.list_database_names()"
   ]
  },
  {
   "cell_type": "code",
   "execution_count": 4,
   "metadata": {},
   "outputs": [
    {
     "data": {
      "text/plain": [
       "['all-rnr-annotated-threads']"
      ]
     },
     "execution_count": 4,
     "metadata": {},
     "output_type": "execute_result"
    }
   ],
   "source": [
    "db.list_collection_names()"
   ]
  },
  {
   "cell_type": "code",
   "execution_count": 8,
   "metadata": {},
   "outputs": [],
   "source": [
    "# Reset database\n",
    "for c in db.list_collection_names(): db.drop_collection(c)"
   ]
  },
  {
   "cell_type": "markdown",
   "metadata": {},
   "source": [
    "### Mendapatkan Dataset Tree"
   ]
  },
  {
   "cell_type": "code",
   "execution_count": 5,
   "metadata": {},
   "outputs": [],
   "source": [
    "list_data = list()\n",
    "for thread in list_threads:\n",
    "    current_thread_dir = '{}/{}'.format(root_dir, thread, )\n",
    "    data = dict()\n",
    "    data['thread_name'] = thread\n",
    "    data['non-rumours'] = list()\n",
    "    data['rumours'] = list()\n",
    "    \n",
    "    # Untuk non rumours\n",
    "    for id_tweet in os.listdir('{}/non-rumours'.format(current_thread_dir)):\n",
    "        if not id_tweet.isnumeric(): continue\n",
    "        try:\n",
    "            dir_path = '{}/non-rumours/{}'.format(current_thread_dir, id_tweet)\n",
    "            data_tweet = dict()\n",
    "            data_tweet['id_tweet'] = id_tweet\n",
    "            data_tweet['path'] = dir_path\n",
    "            data_tweet['annotation'] = json.load(open('{}/annotation.json'.format(dir_path)))\n",
    "            data_tweet['reactions'] = list()\n",
    "            data_tweet['source_tweets'] = json.load(open('{}/source-tweets/{}.json'.format(dir_path, id_tweet)))\n",
    "            data_tweet['structure'] = json.load(open('{}/structure.json'.format(dir_path)))\n",
    "            data['non-rumours'].append(data_tweet)\n",
    "        except NotADirectoryError:\n",
    "            pass\n",
    "\n",
    "    # Untuk rumours\n",
    "    for id_tweet in os.listdir('{}/rumours'.format(current_thread_dir)):\n",
    "        if not id_tweet.isnumeric(): continue\n",
    "        try:\n",
    "            dir_path = '{}/rumours/{}'.format(current_thread_dir, id_tweet)\n",
    "            data_tweet = dict()\n",
    "            data_tweet['id_tweet'] = id_tweet\n",
    "            data_tweet['path'] = dir_path\n",
    "            data_tweet['annotation'] = json.load(open('{}/annotation.json'.format(dir_path)))\n",
    "            data_tweet['reactions'] = list()\n",
    "            data_tweet['source_tweets'] = json.load(open('{}/source-tweets/{}.json'.format(dir_path, id_tweet)))\n",
    "            data_tweet['structure'] = json.load(open('{}/structure.json'.format(dir_path)))\n",
    "            data['rumours'].append(data_tweet)\n",
    "        except NotADirectoryError:\n",
    "            pass\n",
    "    \n",
    "    list_data.append(data)"
   ]
  },
  {
   "cell_type": "code",
   "execution_count": null,
   "metadata": {},
   "outputs": [],
   "source": [
    "# disimpan sebagai file .json\n",
    "json.dump(list_data, open('dataset_tree.json', 'w'))"
   ]
  },
  {
   "cell_type": "code",
   "execution_count": 11,
   "metadata": {},
   "outputs": [
    {
     "name": "stdout",
     "output_type": "stream",
     "text": [
      "update\n"
     ]
    }
   ],
   "source": [
    "# disimpan di MongoDB\n",
    "if collection.find_one():  # sudah ada data\n",
    "    print('update')\n",
    "    for a in range(len(list_threads)):\n",
    "        collection.find_one_and_replace(filter=dict(thread_name=list_threads[a]), replacement=list_data[a])\n",
    "else:\n",
    "    print('insert')\n",
    "    collection.insert_many(list_data)"
   ]
  },
  {
   "cell_type": "code",
   "execution_count": 10,
   "metadata": {},
   "outputs": [
    {
     "name": "stdout",
     "output_type": "stream",
     "text": [
      "charliehebdo-all-rnr-threads\n",
      "ebola-essien-all-rnr-threads\n",
      "ferguson-all-rnr-threads\n",
      "germanwings-crash-all-rnr-threads\n",
      "gurlitt-all-rnr-threads\n",
      "ottawashooting-all-rnr-threads\n",
      "prince-toronto-all-rnr-threads\n",
      "putinmissing-all-rnr-threads\n",
      "sydneysiege-all-rnr-threads\n"
     ]
    }
   ],
   "source": [
    "for c in collection.find():\n",
    "    print(c['thread_name'])"
   ]
  },
  {
   "cell_type": "markdown",
   "metadata": {},
   "source": [
    "### Load data sesuai dengan kebutuhan"
   ]
  },
  {
   "cell_type": "code",
   "execution_count": null,
   "metadata": {},
   "outputs": [],
   "source": [
    "raw_data_tree = json.load(open('dataset_tree.json'))\n",
    "sample_thread = list_threads[0]\n",
    "sample_list_tweet = list(raw_data_tree[sample_thread]['non-rumours'].keys())\n",
    "(_, sample_data), (_, sample_path_data) = raw_data_tree[sample_thread]['non-rumours'][sample_list_tweet[0]].items()"
   ]
  },
  {
   "cell_type": "code",
   "execution_count": null,
   "metadata": {},
   "outputs": [],
   "source": [
    "sample_data"
   ]
  }
 ],
 "metadata": {
  "interpreter": {
   "hash": "df23ddb22969ad9dc97be8d8c24de5322f3c14d28acebdfb9b2bb15e44e34477"
  },
  "kernelspec": {
   "display_name": "Python 3.9.7 64-bit ('dataset_graph': venv)",
   "language": "python",
   "name": "python3"
  },
  "language_info": {
   "codemirror_mode": {
    "name": "ipython",
    "version": 3
   },
   "file_extension": ".py",
   "mimetype": "text/x-python",
   "name": "python",
   "nbconvert_exporter": "python",
   "pygments_lexer": "ipython3",
   "version": "3.9.7"
  },
  "orig_nbformat": 4
 },
 "nbformat": 4,
 "nbformat_minor": 2
}
